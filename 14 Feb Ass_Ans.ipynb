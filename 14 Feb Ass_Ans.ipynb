{
 "cells": [
  {
   "cell_type": "code",
   "execution_count": 1,
   "id": "1bac7c6e-b61f-4863-8e1c-0b983ea42790",
   "metadata": {},
   "outputs": [],
   "source": [
    "# Q1.\n",
    "\n",
    "# The ability of a processor to execute multiple threads simultaneously is known as multithreading.\n",
    "\n",
    "# 'threading' module is used to handle threads in python"
   ]
  },
  {
   "cell_type": "code",
   "execution_count": 2,
   "id": "d9a4a345-fb6d-43a4-9e1c-b97791f4bf9a",
   "metadata": {},
   "outputs": [],
   "source": [
    "# Q2.\n",
    "\n",
    "# Threading module is used to run program concurrently in different parts.\n",
    "\n",
    "# activeCount() − Returns the number of thread objects that are active.\n",
    "# currentThread() − Returns the number of thread objects in the caller's thread control.\n",
    "# enumerate() − Returns a list of all thread objects that are currently active."
   ]
  },
  {
   "cell_type": "code",
   "execution_count": null,
   "id": "b08554fc-de91-4006-82a7-0f7a99ad99a7",
   "metadata": {},
   "outputs": [],
   "source": [
    "# Q3.\n",
    "\n",
    "# run() - method executes any target function belonging to a given thread object that is now active.\n",
    "# start() - To start a thread, we use the start() method of the Thread class.\n",
    "# join() - method is an inbuilt method of the Thread class of the threading module.\n",
    "# isAlive() − The isAlive() method checks whether a thread is still executing."
   ]
  },
  {
   "cell_type": "code",
   "execution_count": 13,
   "id": "c04e6704-446b-483e-a00b-9bdbdaf3cd78",
   "metadata": {},
   "outputs": [],
   "source": [
    "# Q4.\n",
    "import threading\n",
    "import time\n",
    "\n",
    "\n",
    "def sqr(n):\n",
    "    print(n**2)\n",
    "    time.sleep(1)"
   ]
  },
  {
   "cell_type": "code",
   "execution_count": 14,
   "id": "ef021e53-852b-4ae9-aee7-e1e9bc06274b",
   "metadata": {},
   "outputs": [],
   "source": [
    "thread1 = [threading.Thread(target = sqr, args = (i,)) for i in range(5)]"
   ]
  },
  {
   "cell_type": "code",
   "execution_count": 15,
   "id": "922d34bb-69f2-49b7-9d9c-616065fa14c9",
   "metadata": {},
   "outputs": [
    {
     "name": "stdout",
     "output_type": "stream",
     "text": [
      "0\n",
      "1\n",
      "4\n",
      "9\n",
      "16\n"
     ]
    }
   ],
   "source": [
    "for t in thread1:\n",
    "    t.start()"
   ]
  },
  {
   "cell_type": "code",
   "execution_count": 19,
   "id": "17416e4a-b3ed-4529-87f3-3cae0653b90b",
   "metadata": {},
   "outputs": [],
   "source": [
    "def cubes(n):\n",
    "    print(n**3)\n",
    "    time.sleep(1)"
   ]
  },
  {
   "cell_type": "code",
   "execution_count": 20,
   "id": "d71af1d0-4a1a-47a4-a06e-636b0a0468a5",
   "metadata": {},
   "outputs": [],
   "source": [
    "thread2 = [threading.Thread(target = cubes, args = (i,)) for i in range(5)]"
   ]
  },
  {
   "cell_type": "code",
   "execution_count": 21,
   "id": "7be064d4-2c1c-457f-8076-9f45b178b911",
   "metadata": {},
   "outputs": [
    {
     "name": "stdout",
     "output_type": "stream",
     "text": [
      "0\n",
      "1\n",
      "8\n",
      "27\n",
      "64\n"
     ]
    }
   ],
   "source": [
    "for t in thread2:\n",
    "    t.start()"
   ]
  },
  {
   "cell_type": "code",
   "execution_count": 4,
   "id": "318b1343-2d23-4d14-9ce0-b723454622fa",
   "metadata": {},
   "outputs": [],
   "source": [
    "# Q5.\n",
    "\n",
    "# Advantages of multithreading: \n",
    "#     Enhanced performance by decreased development time\n",
    "#     Simplified and streamlined program coding\n",
    "#     Improvised GUI responsiveness\n",
    "#     Simultaneous and parallelized occurrence of tasks\n",
    "#     Better use of cache storage by utilization of resources\n",
    "    \n",
    "# Disadvantages of multithreading:\n",
    "#     Complex debugging and testing processes\n",
    "#     Overhead switching of context\n",
    "#     Increased potential for deadlock occurrence\n",
    "#     Increased difficulty level in writing a program\n",
    "#     Unpredictable results"
   ]
  },
  {
   "cell_type": "code",
   "execution_count": null,
   "id": "1314d0b6-4732-4110-9773-53b1629e25ad",
   "metadata": {},
   "outputs": [],
   "source": [
    "# Q6.\n",
    "\n",
    "# A race condition occurs when two threads use the same variable at a given time. \n",
    "# Deadlock exists when two threads seek one lock simultaneously."
   ]
  }
 ],
 "metadata": {
  "kernelspec": {
   "display_name": "Python 3 (ipykernel)",
   "language": "python",
   "name": "python3"
  },
  "language_info": {
   "codemirror_mode": {
    "name": "ipython",
    "version": 3
   },
   "file_extension": ".py",
   "mimetype": "text/x-python",
   "name": "python",
   "nbconvert_exporter": "python",
   "pygments_lexer": "ipython3",
   "version": "3.10.8"
  }
 },
 "nbformat": 4,
 "nbformat_minor": 5
}
